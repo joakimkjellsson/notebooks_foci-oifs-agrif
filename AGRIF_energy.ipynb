{
 "cells": [
  {
   "cell_type": "markdown",
   "metadata": {},
   "source": [
    "# NEMO-AGRIF energetics "
   ]
  },
  {
   "cell_type": "code",
   "execution_count": 1,
   "metadata": {},
   "outputs": [],
   "source": [
    "import xarray as xr\n",
    "import xgcm\n",
    "from xorca.lib import load_xorca_dataset"
   ]
  },
  {
   "cell_type": "code",
   "execution_count": 3,
   "metadata": {},
   "outputs": [
    {
     "name": "stderr",
     "output_type": "stream",
     "text": [
      "/sfs/fs6/home-geomar/smomw352/miniconda3/envs/py3_std/lib/python3.7/site-packages/xorca/lib.py:391: FutureWarning: In xarray version 0.15 `auto_combine` will be deprecated. See\n",
      "http://xarray.pydata.org/en/stable/combining.html#combining-multi\n",
      "  key=_get_first_time_step_if_any))\n",
      "/sfs/fs6/home-geomar/smomw352/miniconda3/envs/py3_std/lib/python3.7/site-packages/xorca/lib.py:391: FutureWarning: The datasets supplied have global dimension coordinates. You may want\n",
      "to use the new `combine_by_coords` function (or the\n",
      "`combine='by_coords'` option to `open_mfdataset`) to order the datasets\n",
      "before concatenation. Alternatively, to continue concatenating based\n",
      "on the order the datasets are supplied in future, please use the new\n",
      "`combine_nested` function (or the `combine='nested'` option to\n",
      "open_mfdataset).\n",
      "  key=_get_first_time_step_if_any))\n"
     ]
    },
    {
     "ename": "TypeError",
     "evalue": "The `inplace` argument has been removed from xarray. You can achieve an identical effect with python's standard assignment.",
     "output_type": "error",
     "traceback": [
      "\u001b[0;31m---------------------------------------------------------------------------\u001b[0m",
      "\u001b[0;31mTypeError\u001b[0m                                 Traceback (most recent call last)",
      "\u001b[0;32m<ipython-input-3-8918f0688a07>\u001b[0m in \u001b[0;36m<module>\u001b[0;34m\u001b[0m\n\u001b[1;32m      7\u001b[0m \u001b[0mlist_of_mesh_mask_files\u001b[0m \u001b[0;34m=\u001b[0m \u001b[0;34m[\u001b[0m\u001b[0magrif_grid\u001b[0m\u001b[0;34m]\u001b[0m\u001b[0;34m\u001b[0m\u001b[0;34m\u001b[0m\u001b[0m\n\u001b[1;32m      8\u001b[0m ds = load_xorca_dataset(data_files=list_of_all_model_output_files,\n\u001b[0;32m----> 9\u001b[0;31m                         aux_files=list_of_mesh_mask_files)\n\u001b[0m\u001b[1;32m     10\u001b[0m \u001b[0mgrid\u001b[0m \u001b[0;34m=\u001b[0m \u001b[0mxgcm\u001b[0m\u001b[0;34m.\u001b[0m\u001b[0mGrid\u001b[0m\u001b[0;34m(\u001b[0m\u001b[0mds\u001b[0m\u001b[0;34m,\u001b[0m \u001b[0mperiodic\u001b[0m\u001b[0;34m=\u001b[0m\u001b[0;34m[\u001b[0m\u001b[0;34m\"Y\"\u001b[0m\u001b[0;34m,\u001b[0m \u001b[0;34m\"X\"\u001b[0m\u001b[0;34m]\u001b[0m\u001b[0;34m)\u001b[0m\u001b[0;34m\u001b[0m\u001b[0;34m\u001b[0m\u001b[0m\n",
      "\u001b[0;32m~/miniconda3/envs/py3_std/lib/python3.7/site-packages/xorca/lib.py\u001b[0m in \u001b[0;36mload_xorca_dataset\u001b[0;34m(data_files, aux_files, decode_cf, **kwargs)\u001b[0m\n\u001b[1;32m    392\u001b[0m \u001b[0;34m\u001b[0m\u001b[0m\n\u001b[1;32m    393\u001b[0m     \u001b[0;31m# Add info from aux files\u001b[0m\u001b[0;34m\u001b[0m\u001b[0;34m\u001b[0m\u001b[0;34m\u001b[0m\u001b[0m\n\u001b[0;32m--> 394\u001b[0;31m     \u001b[0mds_xorca\u001b[0m\u001b[0;34m.\u001b[0m\u001b[0mupdate\u001b[0m\u001b[0;34m(\u001b[0m\u001b[0mpreprocess_orca\u001b[0m\u001b[0;34m(\u001b[0m\u001b[0maux_ds\u001b[0m\u001b[0;34m,\u001b[0m \u001b[0maux_ds\u001b[0m\u001b[0;34m,\u001b[0m \u001b[0;34m**\u001b[0m\u001b[0mkwargs\u001b[0m\u001b[0;34m)\u001b[0m\u001b[0;34m)\u001b[0m\u001b[0;34m\u001b[0m\u001b[0;34m\u001b[0m\u001b[0m\n\u001b[0m\u001b[1;32m    395\u001b[0m \u001b[0;34m\u001b[0m\u001b[0m\n\u001b[1;32m    396\u001b[0m     \u001b[0;31m# Chunk the final ds\u001b[0m\u001b[0;34m\u001b[0m\u001b[0;34m\u001b[0m\u001b[0;34m\u001b[0m\u001b[0m\n",
      "\u001b[0;32m~/miniconda3/envs/py3_std/lib/python3.7/site-packages/xorca/lib.py\u001b[0m in \u001b[0;36mpreprocess_orca\u001b[0;34m(mesh_mask, ds, **kwargs)\u001b[0m\n\u001b[1;32m    304\u001b[0m \u001b[0;34m\u001b[0m\u001b[0m\n\u001b[1;32m    305\u001b[0m     \u001b[0;31m# make everything that does not depend on time a coord\u001b[0m\u001b[0;34m\u001b[0m\u001b[0;34m\u001b[0m\u001b[0;34m\u001b[0m\u001b[0m\n\u001b[0;32m--> 306\u001b[0;31m     \u001b[0mreturn_ds\u001b[0m \u001b[0;34m=\u001b[0m \u001b[0mset_time_independent_vars_to_coords\u001b[0m\u001b[0;34m(\u001b[0m\u001b[0mreturn_ds\u001b[0m\u001b[0;34m)\u001b[0m\u001b[0;34m\u001b[0m\u001b[0;34m\u001b[0m\u001b[0m\n\u001b[0m\u001b[1;32m    307\u001b[0m \u001b[0;34m\u001b[0m\u001b[0m\n\u001b[1;32m    308\u001b[0m     \u001b[0;32mreturn\u001b[0m \u001b[0mreturn_ds\u001b[0m\u001b[0;34m\u001b[0m\u001b[0;34m\u001b[0m\u001b[0m\n",
      "\u001b[0;32m~/miniconda3/envs/py3_std/lib/python3.7/site-packages/xorca/lib.py\u001b[0m in \u001b[0;36mset_time_independent_vars_to_coords\u001b[0;34m(ds)\u001b[0m\n\u001b[1;32m    247\u001b[0m     return ds.set_coords([v for v in ds.data_vars.keys()\n\u001b[1;32m    248\u001b[0m                           if 't' not in ds[v].dims],\n\u001b[0;32m--> 249\u001b[0;31m                          inplace=False)\n\u001b[0m\u001b[1;32m    250\u001b[0m \u001b[0;34m\u001b[0m\u001b[0m\n\u001b[1;32m    251\u001b[0m \u001b[0;34m\u001b[0m\u001b[0m\n",
      "\u001b[0;32m~/miniconda3/envs/py3_std/lib/python3.7/site-packages/xarray/core/dataset.py\u001b[0m in \u001b[0;36mset_coords\u001b[0;34m(self, names, inplace)\u001b[0m\n\u001b[1;32m   1391\u001b[0m         \u001b[0;31m# nb. check in self._variables, not self.data_vars to insure that the\u001b[0m\u001b[0;34m\u001b[0m\u001b[0;34m\u001b[0m\u001b[0;34m\u001b[0m\u001b[0m\n\u001b[1;32m   1392\u001b[0m         \u001b[0;31m# operation is idempotent\u001b[0m\u001b[0;34m\u001b[0m\u001b[0;34m\u001b[0m\u001b[0;34m\u001b[0m\u001b[0m\n\u001b[0;32m-> 1393\u001b[0;31m         \u001b[0m_check_inplace\u001b[0m\u001b[0;34m(\u001b[0m\u001b[0minplace\u001b[0m\u001b[0;34m)\u001b[0m\u001b[0;34m\u001b[0m\u001b[0;34m\u001b[0m\u001b[0m\n\u001b[0m\u001b[1;32m   1394\u001b[0m         \u001b[0;32mif\u001b[0m \u001b[0misinstance\u001b[0m\u001b[0;34m(\u001b[0m\u001b[0mnames\u001b[0m\u001b[0;34m,\u001b[0m \u001b[0mstr\u001b[0m\u001b[0;34m)\u001b[0m \u001b[0;32mor\u001b[0m \u001b[0;32mnot\u001b[0m \u001b[0misinstance\u001b[0m\u001b[0;34m(\u001b[0m\u001b[0mnames\u001b[0m\u001b[0;34m,\u001b[0m \u001b[0mIterable\u001b[0m\u001b[0;34m)\u001b[0m\u001b[0;34m:\u001b[0m\u001b[0;34m\u001b[0m\u001b[0;34m\u001b[0m\u001b[0m\n\u001b[1;32m   1395\u001b[0m             \u001b[0mnames\u001b[0m \u001b[0;34m=\u001b[0m \u001b[0;34m[\u001b[0m\u001b[0mnames\u001b[0m\u001b[0;34m]\u001b[0m\u001b[0;34m\u001b[0m\u001b[0;34m\u001b[0m\u001b[0m\n",
      "\u001b[0;32m~/miniconda3/envs/py3_std/lib/python3.7/site-packages/xarray/core/utils.py\u001b[0m in \u001b[0;36m_check_inplace\u001b[0;34m(inplace)\u001b[0m\n\u001b[1;32m     39\u001b[0m     \u001b[0;32mif\u001b[0m \u001b[0minplace\u001b[0m \u001b[0;32mis\u001b[0m \u001b[0;32mnot\u001b[0m \u001b[0;32mNone\u001b[0m\u001b[0;34m:\u001b[0m\u001b[0;34m\u001b[0m\u001b[0;34m\u001b[0m\u001b[0m\n\u001b[1;32m     40\u001b[0m         raise TypeError(\n\u001b[0;32m---> 41\u001b[0;31m             \u001b[0;34m\"The `inplace` argument has been removed from xarray. \"\u001b[0m\u001b[0;34m\u001b[0m\u001b[0;34m\u001b[0m\u001b[0m\n\u001b[0m\u001b[1;32m     42\u001b[0m             \u001b[0;34m\"You can achieve an identical effect with python's standard assignment.\"\u001b[0m\u001b[0;34m\u001b[0m\u001b[0;34m\u001b[0m\u001b[0m\n\u001b[1;32m     43\u001b[0m         )\n",
      "\u001b[0;31mTypeError\u001b[0m: The `inplace` argument has been removed from xarray. You can achieve an identical effect with python's standard assignment."
     ]
    }
   ],
   "source": [
    "orca05_grid = '/sfs/fs1/work-geomar/smomw352/esm-experiments/foci_JJK001_pmpi/outdata/nemo/cdf_analysis/mask.nc'\n",
    "agrif_grid  = '/sfs/fs1/work-geomar/smomw352/viking10_mesh_mask.nc'\n",
    "\n",
    "list_of_all_model_output_files = []\n",
    "for year in range(1950,1951):\n",
    "    ufile = '/sfs/fs1/work-geomar/smomw352/esm-experiments/1_foci_JJK002_29_5d_%d0101_%d1231_grid_U.nc' % (year,year)\n",
    "    vfile = '/sfs/fs1/work-geomar/smomw352/esm-experiments/1_foci_JJK002_29_5d_%d0101_%d1231_grid_V.nc' % (year,year)\n",
    "    \n",
    "list_of_mesh_mask_files = [agrif_grid]\n",
    "ds = load_xorca_dataset(data_files=list_of_all_model_output_files,\n",
    "                        aux_files=list_of_mesh_mask_files)\n",
    "grid = xgcm.Grid(ds, periodic=[\"Y\", \"X\"])"
   ]
  },
  {
   "cell_type": "code",
   "execution_count": null,
   "metadata": {},
   "outputs": [],
   "source": []
  }
 ],
 "metadata": {
  "kernelspec": {
   "display_name": "Python [conda env:py3_std]",
   "language": "python",
   "name": "conda-env-py3_std-py"
  },
  "language_info": {
   "codemirror_mode": {
    "name": "ipython",
    "version": 3
   },
   "file_extension": ".py",
   "mimetype": "text/x-python",
   "name": "python",
   "nbconvert_exporter": "python",
   "pygments_lexer": "ipython3",
   "version": "3.7.6"
  }
 },
 "nbformat": 4,
 "nbformat_minor": 4
}
