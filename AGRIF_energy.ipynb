{
 "cells": [
  {
   "cell_type": "markdown",
   "metadata": {},
   "source": [
    "# NEMO-AGRIF energetics "
   ]
  },
  {
   "cell_type": "code",
   "execution_count": null,
   "metadata": {},
   "outputs": [],
   "source": [
    "import xarray as xr\n",
    "import xgcm\n",
    "from xorca.lib import load_xorca_dataset"
   ]
  },
  {
   "cell_type": "code",
   "execution_count": null,
   "metadata": {},
   "outputs": [],
   "source": [
    "orca05_grid = '/sfs/fs1/work-geomar/smomw352/esm-experiments/foci_JJK001_pmpi/outdata/nemo/cdf_analysis/mask.nc'\n",
    "agrif_grid  = '/sfs/fs1/work-geomar/smomw352/viking10_mesh_mask.nc'\n",
    "list_of_all_model_output_files = []\n",
    "for year in range(1950,1951):\n",
    "    ufile = '/sfs/fs1/work-geomar/smomw352/esm-experiments/1_foci_JJK002_29_5d_%d0101_%d1231_grid_U.nc' % (year,)\n",
    "    vfile = '/sfs/fs1/work-geomar/smomw352/esm-experiments/1_foci_JJK002_29_5d_%d0101_%d1231_grid_V.nc' % (year,)\n",
    "list_of_mesh_mask_files = [agrif_grid]\n",
    "ds = load_xorca_dataset(data_files=list_of_all_model_output_files,\n",
    "                        aux_files=list_of_mesh_mask_files)\n",
    "grid = xgcm.Grid(ds, periodic=[\"Y\", \"X\"])"
   ]
  }
 ],
 "metadata": {
  "kernelspec": {
   "display_name": "Python [conda env:py3_std]",
   "language": "python",
   "name": "conda-env-py3_std-py"
  },
  "language_info": {
   "codemirror_mode": {
    "name": "ipython",
    "version": 3
   },
   "file_extension": ".py",
   "mimetype": "text/x-python",
   "name": "python",
   "nbconvert_exporter": "python",
   "pygments_lexer": "ipython3",
   "version": "3.7.6"
  }
 },
 "nbformat": 4,
 "nbformat_minor": 4
}
